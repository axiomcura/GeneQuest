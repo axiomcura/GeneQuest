{
 "cells": [
  {
   "cell_type": "code",
   "execution_count": 4,
   "metadata": {},
   "outputs": [],
   "source": [
    "import sys \n",
    "from collections import namedtuple\n",
    "import pandas as pd\n",
    "import numpy as np\n",
    "\n",
    "# this sys.path is required for notebook compatibility\n",
    "sys.path.append(\"../\")\n",
    "from genequest.common.errors import FormatError"
   ]
  },
  {
   "cell_type": "code",
   "execution_count": 63,
   "metadata": {},
   "outputs": [],
   "source": [
    "class FastaEntry:\n",
    "    \"\"\" Class object that contains the FASTA entry information\"\"\"\n",
    "    __slot__ = [\"header_id\", \"scaffold_id\", \"seq\"]\n",
    "    \n",
    "    def __init__(self, header_id, scaffold_id, seq):\n",
    "        self.header_id = header_id\n",
    "        self.scaffold_id = scaffold_id\n",
    "        self.seq = seq\n",
    "\n",
    "    def __str__(self):\n",
    "        \"\"\"String representation of the data type\"\"\"\n",
    "        str_rep = f\"FastaEntry(header_id='{self.header_id}', scafold_id='{self.scaffold_id}', seq='{self.seq}')\"\n",
    "        return str_rep\n",
    "\n",
    "    def __repr__(self):\n",
    "        return self.__str__()\n",
    "\n",
    "\n",
    "class FastaReader():\n",
    "    \"\"\" Class that is used for parsing FASTA files. Contains function to conduct\n",
    "    simple edits.\n",
    "    \n",
    "    parameters\n",
    "    ----------\n",
    "    filename:  str\n",
    "        path that leads to FASTA file \n",
    "    \n",
    "    \n",
    "    methods\n",
    "    -------\n",
    "    reverse(fasta_entry):method return reversed sequences along with its position\n",
    "    \"\"\"\n",
    "\n",
    "    def __init__(self, filename):\n",
    "        self.__index = 0\n",
    "        self.filename = filename\n",
    "        self.entries = None\n",
    "        self.n_entries = None\n",
    "        self.ids = None\n",
    "\n",
    "        # populating attributes\n",
    "        self.__parse_fasta()\n",
    "\n",
    "\n",
    "    # TODO: make it only support FastaEntry datatypes\n",
    "    @staticmethod\n",
    "    def reverse(fasta_entry):\n",
    "        \"\"\" Returns the reverse position of the data\"\"\"\n",
    "        FastaEntry = namedtuple(\"FastaEntry\", \"id, pos1, pos2, seq\")\n",
    "        r_entry = FastaEntry(fasta_entry.id, \n",
    "                           fasta_entry.pos2, \n",
    "                           fasta_entry.pos1, \n",
    "                           fasta_entry.seq[::-1])  \n",
    "        return r_entry\n",
    "    \n",
    "    # TODO: grouping function\n",
    "    def group_by_scaffold(self):\n",
    "        \"\"\" Groups all entries based on a scaffold\"\"\"\n",
    "        pass\n",
    "\n",
    "    # TODO: useful function to search \n",
    "    def search(self, header_id):\n",
    "        \"\"\"Obtains sequence read with given header_id\n",
    "\n",
    "        Parameters\n",
    "        ----------\n",
    "        header_id : str\n",
    "            FASTA header id\n",
    "\n",
    "        Returns\n",
    "        -------\n",
    "        str\n",
    "            sequence associated with given fasta header_id\n",
    "            \n",
    "        Raises\n",
    "        ------\n",
    "        ValueError\n",
    "            raised if the provided header_id does not exist\n",
    "        \"\"\"\n",
    "\n",
    "\n",
    "    # Private functions\n",
    "    def __parse_fasta(self):\n",
    "        \"\"\"Parses Fasta files and returns a list of FastaEntry objects\n",
    "\n",
    "        Parameters\n",
    "        ----------\n",
    "        filename : str\n",
    "            path to FASTA file\n",
    "\n",
    "        Returns\n",
    "        -------\n",
    "        list\n",
    "            list of FastaEntry objects\n",
    "\n",
    "        Raises\n",
    "        ------\n",
    "        FormatError\n",
    "            raised if input file is not a FASTA file\n",
    "        \"\"\"\n",
    "        with open(self.filename, \"r\") as f:\n",
    "            data = f.readlines()\n",
    "            if not data[0].startswith(\">\"):\n",
    "                raise FormatError(\"Invalid FASTA file\")\n",
    "        \n",
    "            raw_entries = [tuple(data[i:i+2]) for i in range(0, len(data), 2)]\n",
    "\n",
    "            entries = []\n",
    "            for header, seq in raw_entries:\n",
    "                \n",
    "                # removing unwantedf ormating \n",
    "                header_id = header.strip().replace(\"\\n\", \"\").replace(\">\", \"\")\n",
    "                scafold_id = header.split(':')[0]\n",
    "                seq = seq.strip().replace(\"\\n\", \"\")\n",
    "\n",
    "                # Collecting data and converting it into FastaEntry type\n",
    "                entry = FastaEntry(header_id, scafold_id, seq)\n",
    "                entries.append(entry)\n",
    "\n",
    "        self.entries = entries \n",
    "        self.n_entries = len(entries)\n",
    "            \n",
    "   # Data Type transformation support \n",
    "   # NOTE: to list \n",
    "    def to_list(self):\n",
    "       \"\"\" converts FASTA entries into python list\"\"\"\n",
    "       pass\n",
    "\n",
    "    def to_pandas(self):\n",
    "        \"\"\"Converts FASTA entries into pandas DataFrame\"\"\"\n",
    "        pass\n",
    "\n",
    "    def to_dict():\n",
    "        \"\"\" Converts FASTA entries into python dictionary\"\"\"\n",
    "        pass\n",
    "    \n",
    "    # Allow python functionallity support\n",
    "    # -- indexing and iterating support\n",
    "    def __iter__(self):\n",
    "        return self\n",
    "\n",
    "    def __next__(self): \n",
    "        try:\n",
    "            result = self.entries[self.__idx]\n",
    "        except IndexError:\n",
    "            self.__index = 0\n",
    "            raise StopIteration\n",
    "\n",
    "        self.__index += 1\n",
    "        return result\n",
    "\n",
    "    def __getitem__(self, val):\n",
    "        return self.entries[val]\n",
    "    \n",
    "    # -- printing support\n",
    "    def __repr__(self):\n",
    "        return f\"FastaReader(filename={self.filename}, entries={self.n_entries})\"\n",
    "    \n",
    "    def __str__(self):\n",
    "        return f\"FastaReader: Filename: '{self.filename}' has {self.n_entries} entries\"\n",
    "\n"
   ]
  },
  {
   "cell_type": "markdown",
   "metadata": {},
   "source": [
    "## Functions "
   ]
  },
  {
   "cell_type": "code",
   "execution_count": 1,
   "metadata": {},
   "outputs": [],
   "source": [
    "read = \"\"\"\n",
    ">2S43D:03629:08794\n",
    "TTCAGGCTCTGGCATGCATTAGAAATGTGGCTTGTTTT\n",
    ">2S43D:08938:01257\n",
    "GGGTGGTCCCCCTCCTTTACTTGTAACGTTGTCCTAAGTCGTTTTCTTTAGCCCATGGTGTTGGTGGGGTTCACAGAAACACCCAGAGTTCACCTGAGCCTTTAACCAATCCCAGCCCAGGGAGCCAGAGCCCAGGCACAGGTGCAGGACCACGGCAGGCCCAGTATTGGCTCCGACAGAAGCTACGGCATCCTATCGAGTGCACTGGGCTCGTGGTGGGAAGCAGGACA\n",
    ">2S43D:05292:10188\n",
    "GGGTGGTCTCCTTTACTTGTAACTTGTCCTAAGTCGTTTCTTTAGCCCATGGTGTTGGTGGGGTTCACAGAAACACCCAGAGTTCACCTGAGCCTTTAACCAATCCCAGCCAGGAGCCAGAGCCCAGGCACAGGTGCAGGACCACGGCAGGCCCAGTATTTGGCTTCCACAGAAGCTACGGCATCCTGATG\n",
    ">2S43D:03619:08385\n",
    "CAACAGGGTTTTGGAAATTTGCCCATTTGCATGGCGAAGACCACCTCTCTCTCTCTCATCGACCT\n",
    ">2S43D:08782:12110\n",
    "CCCCCCTCCTTTATTTTGTTGATTATTGAGTTTGGCATTCTGTTCTTGTGGCTCTCTTCTTTTGTTTCGTTTGAGGAATACTTCTTGGCTTTTTCTACTGGGCGTGAGTTTTCTTGGTCCTTGATTATTGGGTT\n",
    ">2S43D:09644:04759\n",
    "TAGGGCTGGAGGCTGGGGTAGTGTAACACATCCTACACGTGGCAGGCAGAGACAGGATGAACCTGATGACTTGGAGGCCAGCTTGATTTATGTAGCGAGTTTAGGTCATCCAAAGCTATACAGTGAGAACCTGTCTGAAAAAAACCAACAACCGAAATGAAAGAAAGAAAGAAAAGAA\n",
    ">2S43D:04730:00438\n",
    "AAGATTTTTGTTGTAGATAGTGATAAACCAGCTACCCCATCCTAGTCTTAAA\n",
    "\"\"\""
   ]
  },
  {
   "cell_type": "code",
   "execution_count": 20,
   "metadata": {},
   "outputs": [],
   "source": [
    "from textwrap import dedent\n",
    "fasta_content = dedent(\n",
    "    \"\"\"\n",
    "    >2S43D:03629:08794\n",
    "    TTCAGGCTCTGGCATGCATTAGAAATGTGGCTTGTTTT\n",
    "    >2S43D:08938:01257\n",
    "    GGGTGGTCCCCCTCCTTTACTTGTAACGTTGTCCTAAGTCGTTTTCTTTAGCCCATGGTGTTGGTGGGGTTCACAGAAACACCCAGAGTTCACCTGAGCCTTTAACCAATCCCAGCCCAGGGAGCCAGAGCCCAGGCACAGGTGCAGGACCACGGCAGGCCCAGTATTGGCTCCGACAGAAGCTACGGCATCCTATCGAGTGCACTGGGCTCGTGGTGGGAAGCAGGACA\n",
    "    >2S43D:05292:10188\n",
    "    GGGTGGTCTCCTTTACTTGTAACTTGTCCTAAGTCGTTTCTTTAGCCCATGGTGTTGGTGGGGTTCACAGAAACACCCAGAGTTCACCTGAGCCTTTAACCAATCCCAGCCAGGAGCCAGAGCCCAGGCACAGGTGCAGGACCACGGCAGGCCCAGTATTTGGCTTCCACAGAAGCTACGGCATCCTGATG\n",
    "    >2S43D:03619:08385\n",
    "    CAACAGGGTTTTGGAAATTTGCCCATTTGCATGGCGAAGACCACCTCTCTCTCTCTCATCGACCT\n",
    "    >2S43D:08782:12110\n",
    "    CCCCCCTCCTTTATTTTGTTGATTATTGAGTTTGGCATTCTGTTCTTGTGGCTCTCTTCTTTTGTTTCGTTTGAGGAATACTTCTTGGCTTTTTCTACTGGGCGTGAGTTTTCTTGGTCCTTGATTATTGGGTT\n",
    "    >2S43D:09644:04759\n",
    "    TAGGGCTGGAGGCTGGGGTAGTGTAACACATCCTACACGTGGCAGGCAGAGACAGGATGAACCTGATGACTTGGAGGCCAGCTTGATTTATGTAGCGAGTTTAGGTCATCCAAAGCTATACAGTGAGAACCTGTCTGAAAAAAACCAACAACCGAAATGAAAGAAAGAAAGAAAAGAA\n",
    "    >2S43D:04730:00438\n",
    "    AAGATTTTTGTTGTAGATAGTGATAAACCAGCTACCCCATCCTAGTCTTAAA\n",
    "    \"\"\"\n",
    "    ).splitlines()"
   ]
  },
  {
   "cell_type": "code",
   "execution_count": 23,
   "metadata": {},
   "outputs": [],
   "source": [
    "fname = \"../genequest/tests/test_data/test_fasta_seq.fasta\"\n",
    "contents = parse_fasta(fname)\n"
   ]
  },
  {
   "cell_type": "code",
   "execution_count": 41,
   "metadata": {},
   "outputs": [],
   "source": [
    "data = FastaEntry(\n",
    "    header_id = \"2S43D:04730:00438\",\n",
    "    scaffold_id = \"2S43D\",\n",
    "    seq = \"AAGATTTTTGTTGTAGATAGTGATAAACCAGCTACCCCATCCTAGTCTTAAA\",\n",
    ")\n",
    "\n",
    "data2 = FastaEntry(\n",
    "    header_id = \"2S43D:04730:00438\",\n",
    "    scaffold_id = \"2S43D\",\n",
    "    seq = \"AAGATTTTTGTTGTAGATAGTGATAAACCAGCTACCCCATCCTAGTCTTAAA\",\n",
    ")"
   ]
  },
  {
   "cell_type": "code",
   "execution_count": 47,
   "metadata": {},
   "outputs": [
    {
     "data": {
      "text/plain": [
       "True"
      ]
     },
     "execution_count": 47,
     "metadata": {},
     "output_type": "execute_result"
    }
   ],
   "source": [
    "str(data) == str(data2)"
   ]
  },
  {
   "cell_type": "code",
   "execution_count": 64,
   "metadata": {},
   "outputs": [],
   "source": [
    "entries = FastaReader(\"../genequest/tests/test_data/test_fasta_seq.fasta\")"
   ]
  },
  {
   "cell_type": "code",
   "execution_count": 65,
   "metadata": {},
   "outputs": [
    {
     "data": {
      "text/plain": [
       "[FastaEntry(header_id='2S43D:03629:08794', scafold_id='>2S43D', seq='TTCAGGCTCTGGCATGCATTAGAAATGTGGCTTGTTTT'),\n",
       " FastaEntry(header_id='2S43D:08938:01257', scafold_id='>2S43D', seq='GGGTGGTCCCCCTCCTTTACTTGTAACGTTGTCCTAAGTCGTTTTCTTTAGCCCATGGTGTTGGTGGGGTTCACAGAAACACCCAGAGTTCACCTGAGCCTTTAACCAATCCCAGCCCAGGGAGCCAGAGCCCAGGCACAGGTGCAGGACCACGGCAGGCCCAGTATTGGCTCCGACAGAAGCTACGGCATCCTATCGAGTGCACTGGGCTCGTGGTGGGAAGCAGGACA'),\n",
       " FastaEntry(header_id='2S43D:05292:10188', scafold_id='>2S43D', seq='GGGTGGTCTCCTTTACTTGTAACTTGTCCTAAGTCGTTTCTTTAGCCCATGGTGTTGGTGGGGTTCACAGAAACACCCAGAGTTCACCTGAGCCTTTAACCAATCCCAGCCAGGAGCCAGAGCCCAGGCACAGGTGCAGGACCACGGCAGGCCCAGTATTTGGCTTCCACAGAAGCTACGGCATCCTGATG'),\n",
       " FastaEntry(header_id='2S43D:03619:08385', scafold_id='>2S43D', seq='CAACAGGGTTTTGGAAATTTGCCCATTTGCATGGCGAAGACCACCTCTCTCTCTCTCATCGACCT'),\n",
       " FastaEntry(header_id='2S43D:08782:12110', scafold_id='>2S43D', seq='CCCCCCTCCTTTATTTTGTTGATTATTGAGTTTGGCATTCTGTTCTTGTGGCTCTCTTCTTTTGTTTCGTTTGAGGAATACTTCTTGGCTTTTTCTACTGGGCGTGAGTTTTCTTGGTCCTTGATTATTGGGTT'),\n",
       " FastaEntry(header_id='2S43D:09644:04759', scafold_id='>2S43D', seq='TAGGGCTGGAGGCTGGGGTAGTGTAACACATCCTACACGTGGCAGGCAGAGACAGGATGAACCTGATGACTTGGAGGCCAGCTTGATTTATGTAGCGAGTTTAGGTCATCCAAAGCTATACAGTGAGAACCTGTCTGAAAAAAACCAACAACCGAAATGAAAGAAAGAAAGAAAAGAA'),\n",
       " FastaEntry(header_id='IDIDID:04730:00438', scafold_id='>IDIDID', seq='AAGATTTTTGTTGTAGATAGTGATAAACCAGCTACCCCATCCTAGTCTTAAA'),\n",
       " FastaEntry(header_id='IDIDID:06986:00601', scafold_id='>IDIDID', seq='GCGGGGGAGAGGATGGAGGCTTCTGAGTGAAAACGAGGAAGGGACTAAATTTCAAATGTAAATAAAGACAATATCTAATAAAAATAAAATAAAATTAATGGGGGGGGA'),\n",
       " FastaEntry(header_id='IDIDID:02506:06718', scafold_id='>IDIDID', seq='GGCTGACATGTATCTATGTTTAAATTAAGGTGCCCTGTCCTCCAATGTCTGCATTGCACTCAGAAGGGAGCCAAGTGCTGCTTGTAAAATGGAATCACTA')]"
      ]
     },
     "execution_count": 65,
     "metadata": {},
     "output_type": "execute_result"
    }
   ],
   "source": [
    "entries.entries"
   ]
  },
  {
   "cell_type": "code",
   "execution_count": 2,
   "metadata": {},
   "outputs": [
    {
     "ename": "SyntaxError",
     "evalue": "unterminated string literal (detected at line 1) (1332178930.py, line 1)",
     "output_type": "error",
     "traceback": [
      "\u001b[0;36m  Input \u001b[0;32mIn [2]\u001b[0;36m\u001b[0m\n\u001b[0;31m    name = \"erik\u001b[0m\n\u001b[0m           ^\u001b[0m\n\u001b[0;31mSyntaxError\u001b[0m\u001b[0;31m:\u001b[0m unterminated string literal (detected at line 1)\n"
     ]
    }
   ],
   "source": [
    "name = \"erik"
   ]
  },
  {
   "cell_type": "code",
   "execution_count": 1,
   "metadata": {},
   "outputs": [],
   "source": [
    "import sys "
   ]
  }
 ],
 "metadata": {
  "interpreter": {
   "hash": "e0093a408a9b84e03895479acb96f0ec4535a82c766374491da345b2920c9cca"
  },
  "kernelspec": {
   "display_name": "Python 3.10.2 ('gene_search')",
   "language": "python",
   "name": "python3"
  },
  "language_info": {
   "codemirror_mode": {
    "name": "ipython",
    "version": 3
   },
   "file_extension": ".py",
   "mimetype": "text/x-python",
   "name": "python",
   "nbconvert_exporter": "python",
   "pygments_lexer": "ipython3",
   "version": "3.10.2"
  },
  "orig_nbformat": 4
 },
 "nbformat": 4,
 "nbformat_minor": 2
}
