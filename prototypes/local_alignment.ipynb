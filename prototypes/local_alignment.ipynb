{
 "cells": [
  {
   "cell_type": "code",
   "execution_count": 131,
   "metadata": {},
   "outputs": [],
   "source": [
    "import numpy as np\n",
    "import random\n",
    "import pandas as pd"
   ]
  },
  {
   "cell_type": "code",
   "execution_count": 132,
   "metadata": {},
   "outputs": [],
   "source": [
    "def generate_random_seq(n_nucleotides):\n",
    "    dna_nuc = [\"A\", \"T\", \"C\", \"G\"]\n",
    "    random_dna_seq = \"\".join(random.choices(dna_nuc, k=n_nucleotides))\n",
    "\n",
    "    return random_dna_seq\n",
    "\n",
    "\n",
    "def generate_scoring_matrix(n_rows, n_cols):\n",
    "    \"\"\"Generates a zero-filled matrix\n",
    "\n",
    "    Parameters\n",
    "    ----------\n",
    "    n_rows : int\n",
    "        number of rows\n",
    "    col_size : int\n",
    "        number of columns\n",
    "    \"\"\"\n",
    "    matrix = np.zeros((n_rows, n_cols), dtype=np.int32)\n",
    "    return matrix\n",
    "\n"
   ]
  },
  {
   "cell_type": "code",
   "execution_count": 122,
   "metadata": {},
   "outputs": [],
   "source": [
    "query = generate_random_seq(436)\n",
    "contig = generate_random_seq(532)"
   ]
  },
  {
   "cell_type": "code",
   "execution_count": 123,
   "metadata": {},
   "outputs": [],
   "source": [
    "scoring_matrix = generate_scoring_matrix(len(query), len(contig))"
   ]
  },
  {
   "cell_type": "code",
   "execution_count": 142,
   "metadata": {},
   "outputs": [],
   "source": [
    "def match_scoring(nuc1, nuc2, match_score=10, mismatch_score=-5):\n",
    "    if nuc1 == nuc2:\n",
    "        return match_score\n",
    "    else:\n",
    "        return mismatch_score\n",
    "\n",
    "\n",
    "\n",
    "\n",
    "def local_align(query, contig, gap=-5, match=10, mismatch=-5):\n",
    "    \"\"\"Do a local alignment between x and y\"\"\"\n",
    "    # create a zero-filled matrix\n",
    "\n",
    "    score_matrix = generate_scoring_matrix(len(contig) + 1, len(query) + 1)\n",
    "\n",
    "    best_score = 0\n",
    "    best_score_loc = (0,0)\n",
    "\n",
    "    # fill in A in the right order\n",
    "    for i in range(1, len(contig)+1):\n",
    "        for j in range(1, len(query)+1):\n",
    "            \n",
    "            # getting best score per row\n",
    "            score_matrix[i][j] = max(\n",
    "            score_matrix[i][j-1] + gap,\n",
    "            score_matrix[i-1][j] + gap,\n",
    "            score_matrix[i-1][j-1] + match_scoring(contig[i-1], query[j-1]),\n",
    "            0\n",
    "            )\n",
    "        \n",
    "            # tracking largest score\n",
    "            if score_matrix[i][j] >= best_score: \n",
    "                best_score = score_matrix[i][j] \n",
    "                best_score_loc = (i,j)\n",
    "\n",
    "    # convert into pandas dataframe\n",
    "    col_idx = [\"*\"] + [n for n in query]\n",
    "    indx = [\"*\"] + [n for n in contig]\n",
    "    alignment_df = pd.DataFrame(score_matrix, columns=col_idx, index=indx)\n",
    "    alignment_df.to_csv(\"alignment.csv\")\n",
    "\n",
    "\n",
    "    # return the opt score and the best location\n",
    "    return best_score, best_score_loc, score_matrix, alignment_df"
   ]
  },
  {
   "cell_type": "code",
   "execution_count": null,
   "metadata": {},
   "outputs": [],
   "source": []
  },
  {
   "cell_type": "code",
   "execution_count": 143,
   "metadata": {},
   "outputs": [
    {
     "data": {
      "text/plain": [
       "array([[ 0,  0,  0,  0,  0],\n",
       "       [ 0,  0, 10,  5,  0],\n",
       "       [ 0,  0,  5, 20, 15]], dtype=int32)"
      ]
     },
     "execution_count": 143,
     "metadata": {},
     "output_type": "execute_result"
    }
   ],
   "source": [
    "_, _, matrix = local_align(\"acgt\", \"cg\")\n",
    "matrix"
   ]
  },
  {
   "cell_type": "code",
   "execution_count": null,
   "metadata": {},
   "outputs": [],
   "source": []
  }
 ],
 "metadata": {
  "interpreter": {
   "hash": "e0093a408a9b84e03895479acb96f0ec4535a82c766374491da345b2920c9cca"
  },
  "kernelspec": {
   "display_name": "Python 3.10.2 ('gene_search')",
   "language": "python",
   "name": "python3"
  },
  "language_info": {
   "codemirror_mode": {
    "name": "ipython",
    "version": 3
   },
   "file_extension": ".py",
   "mimetype": "text/x-python",
   "name": "python",
   "nbconvert_exporter": "python",
   "pygments_lexer": "ipython3",
   "version": "3.10.2"
  },
  "orig_nbformat": 4
 },
 "nbformat": 4,
 "nbformat_minor": 2
}
