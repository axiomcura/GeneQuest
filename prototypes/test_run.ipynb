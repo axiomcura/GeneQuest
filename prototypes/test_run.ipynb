{
 "cells": [
  {
   "cell_type": "markdown",
   "metadata": {},
   "source": [
    "## imports"
   ]
  },
  {
   "cell_type": "code",
   "execution_count": 1,
   "metadata": {},
   "outputs": [],
   "source": [
    "import sys \n",
    "from collections import defaultdict\n",
    "# genequest imports \n",
    "from genequest.io_handler.parser import FastaReader\n",
    "from genequest.common.errors import *\n",
    "from genequest.analysis.assembler import run_de_brujin, kmerize\n"
   ]
  },
  {
   "cell_type": "markdown",
   "metadata": {},
   "source": [
    "## Script Prototype"
   ]
  },
  {
   "cell_type": "markdown",
   "metadata": {},
   "source": [
    "### inputs "
   ]
  },
  {
   "cell_type": "code",
   "execution_count": 2,
   "metadata": {},
   "outputs": [],
   "source": [
    "reads = \"../data/READS.fasta\"\n",
    "query = \"../data/QUERY.fasta\"\n",
    "kmer_size = 20\n",
    "match_score = 10\n",
    "gap_score = 0\n",
    "mismatch_score = -5"
   ]
  },
  {
   "cell_type": "markdown",
   "metadata": {},
   "source": [
    "### Main script "
   ]
  },
  {
   "cell_type": "code",
   "execution_count": 3,
   "metadata": {},
   "outputs": [
    {
     "name": "stdout",
     "output_type": "stream",
     "text": [
      "Loaded Sequence information:\n",
      "Query sequence length: 648\n",
      "Total number of reads: 124520\n",
      "Scaffolds: ['2G5Z3', '2S43D']\n",
      "Total number of scaffolds: 2\n"
     ]
    }
   ],
   "source": [
    "# loading in the read and gene_query\n",
    "entries = FastaReader(reads)\n",
    "gene_query = FastaReader(query)\n",
    "\n",
    "print(\"Loaded Sequence information:\")\n",
    "print(\"Query sequence length: {}\".format(len(gene_query[0])))\n",
    "print(\"Total number of reads: {}\".format(entries.n_entries))\n",
    "print(\"Scaffolds: {}\".format(entries.scaffold_ids))\n",
    "print(\"Total number of scaffolds: {}\".format(entries.n_scaffolds))\n",
    "\n",
    "# grouped_entries = entries.group_by_scaffold()\n"
   ]
  },
  {
   "cell_type": "code",
   "execution_count": 10,
   "metadata": {},
   "outputs": [],
   "source": [
    "data = run_de_brujin(entries, k=20)"
   ]
  },
  {
   "cell_type": "code",
   "execution_count": 9,
   "metadata": {},
   "outputs": [
    {
     "data": {
      "text/plain": [
       "5098878"
      ]
     },
     "execution_count": 9,
     "metadata": {},
     "output_type": "execute_result"
    }
   ],
   "source": []
  },
  {
   "cell_type": "code",
   "execution_count": 6,
   "metadata": {},
   "outputs": [],
   "source": [
    "s = \"ATCG\""
   ]
  },
  {
   "cell_type": "code",
   "execution_count": 7,
   "metadata": {},
   "outputs": [
    {
     "data": {
      "text/plain": [
       "'ATC'"
      ]
     },
     "execution_count": 7,
     "metadata": {},
     "output_type": "execute_result"
    }
   ],
   "source": [
    "s[:len(s)-1]"
   ]
  },
  {
   "cell_type": "code",
   "execution_count": null,
   "metadata": {},
   "outputs": [],
   "source": []
  }
 ],
 "metadata": {
  "interpreter": {
   "hash": "e0093a408a9b84e03895479acb96f0ec4535a82c766374491da345b2920c9cca"
  },
  "kernelspec": {
   "display_name": "Python 3.10.2 ('gene_search')",
   "language": "python",
   "name": "python3"
  },
  "language_info": {
   "codemirror_mode": {
    "name": "ipython",
    "version": 3
   },
   "file_extension": ".py",
   "mimetype": "text/x-python",
   "name": "python",
   "nbconvert_exporter": "python",
   "pygments_lexer": "ipython3",
   "version": "3.10.2"
  },
  "orig_nbformat": 4
 },
 "nbformat": 4,
 "nbformat_minor": 2
}
