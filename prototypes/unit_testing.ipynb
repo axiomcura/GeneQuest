{
 "cells": [
  {
   "cell_type": "code",
   "execution_count": null,
   "metadata": {},
   "outputs": [],
   "source": [
    "import unittest\n",
    "from genequest.io_handler.parser import FastaEntry"
   ]
  },
  {
   "cell_type": "code",
   "execution_count": 15,
   "metadata": {},
   "outputs": [],
   "source": [
    "    def test_FastaEntry(self):\n",
    "        \"\"\" testing creating of FastaEntry Datatype\"\"\"\n",
    "\n",
    "        # creating FastaEntry type\n",
    "        entry = FastaEntry(\n",
    "            header_id = \"2S43D:04730:00438\",\n",
    "            scaffold_id = \"2S43D\",\n",
    "            seq = \"AAGATTTTTGTTGTAGATAGTGATAAACCAGCTACCCCATCCTAGTCTTAAA\",\n",
    "            )\n",
    "\n",
    "        test_data_type = str(entry)\n",
    "        test_header_id = entry.header_id\n",
    "        test_scaffold_id = entry.scaffold_id\n",
    "        test_seq = entry.seq\n",
    "\n",
    "        data_type = \"FastaEntry(header_id='2S43D:04730:00438', scaffold_id='2S43D', seq='AAGATTTTTGTTGTAGATAGTGATAAACCAGCTACCCCATCCTAGTCTTAAA')\"\n",
    "        header_id = \"2S43D:04730:00438\"\n",
    "        scaffold_id = \"2S43D\"\n",
    "        seq = \"AAGATTTTTGTTGTAGATAGTGATAAACCAGCTACCCCATCCTAGTCTTAAA\"\n",
    "\n",
    "        return entry"
   ]
  },
  {
   "cell_type": "code",
   "execution_count": null,
   "metadata": {},
   "outputs": [],
   "source": []
  },
  {
   "cell_type": "code",
   "execution_count": 1,
   "metadata": {},
   "outputs": [],
   "source": [
    "x = \"CCCCTACATGTTGTTATAGACAATCAGTGGAAACCCAGTGCCAGACGATG\""
   ]
  },
  {
   "cell_type": "code",
   "execution_count": 4,
   "metadata": {},
   "outputs": [
    {
     "data": {
      "text/plain": [
       "'CAATCAGTGGAAACCCAGTG'"
      ]
     },
     "execution_count": 4,
     "metadata": {},
     "output_type": "execute_result"
    }
   ],
   "source": [
    "x[20:40]"
   ]
  },
  {
   "cell_type": "code",
   "execution_count": 5,
   "metadata": {},
   "outputs": [],
   "source": [
    "import numpy as np"
   ]
  },
  {
   "cell_type": "code",
   "execution_count": 13,
   "metadata": {},
   "outputs": [],
   "source": [
    "mat = np.random.rand(5, 10)*10"
   ]
  },
  {
   "cell_type": "code",
   "execution_count": 15,
   "metadata": {},
   "outputs": [
    {
     "data": {
      "text/plain": [
       "25"
      ]
     },
     "execution_count": 15,
     "metadata": {},
     "output_type": "execute_result"
    }
   ],
   "source": [
    "mat.argmax()"
   ]
  },
  {
   "cell_type": "code",
   "execution_count": 19,
   "metadata": {},
   "outputs": [
    {
     "data": {
      "text/plain": [
       "3.384461414106714"
      ]
     },
     "execution_count": 19,
     "metadata": {},
     "output_type": "execute_result"
    }
   ],
   "source": [
    "mat[4,4]"
   ]
  },
  {
   "cell_type": "code",
   "execution_count": 1,
   "metadata": {},
   "outputs": [],
   "source": [
    "from numpy import unravel_index"
   ]
  },
  {
   "cell_type": "code",
   "execution_count": 2,
   "metadata": {},
   "outputs": [
    {
     "ename": "NameError",
     "evalue": "name 'mat' is not defined",
     "output_type": "error",
     "traceback": [
      "\u001b[0;31m---------------------------------------------------------------------------\u001b[0m",
      "\u001b[0;31mNameError\u001b[0m                                 Traceback (most recent call last)",
      "\u001b[1;32m/home/axiomcura/Projects/GeneQuest/prototypes/unit_testing.ipynb Cell 11'\u001b[0m in \u001b[0;36m<cell line: 1>\u001b[0;34m()\u001b[0m\n\u001b[0;32m----> <a href='vscode-notebook-cell:/home/axiomcura/Projects/GeneQuest/prototypes/unit_testing.ipynb#ch0000010?line=0'>1</a>\u001b[0m unravel_index(mat\u001b[39m.\u001b[39margmax(), mat\u001b[39m.\u001b[39mshape)\n",
      "\u001b[0;31mNameError\u001b[0m: name 'mat' is not defined"
     ]
    }
   ],
   "source": [
    "unravel_index(mat.argmax(), mat.shape)"
   ]
  },
  {
   "cell_type": "code",
   "execution_count": 3,
   "metadata": {},
   "outputs": [
    {
     "ename": "NameError",
     "evalue": "name 'mat' is not defined",
     "output_type": "error",
     "traceback": [
      "\u001b[0;31m---------------------------------------------------------------------------\u001b[0m",
      "\u001b[0;31mNameError\u001b[0m                                 Traceback (most recent call last)",
      "\u001b[1;32m/home/axiomcura/Projects/GeneQuest/prototypes/unit_testing.ipynb Cell 12'\u001b[0m in \u001b[0;36m<cell line: 1>\u001b[0;34m()\u001b[0m\n\u001b[0;32m----> <a href='vscode-notebook-cell:/home/axiomcura/Projects/GeneQuest/prototypes/unit_testing.ipynb#ch0000011?line=0'>1</a>\u001b[0m mat\u001b[39m.\u001b[39mmax()\n",
      "\u001b[0;31mNameError\u001b[0m: name 'mat' is not defined"
     ]
    }
   ],
   "source": [
    "mat.max()"
   ]
  },
  {
   "cell_type": "code",
   "execution_count": 7,
   "metadata": {},
   "outputs": [],
   "source": [
    "from genequest.analysis.alignment import score_alignment\n",
    "import numpy  as np"
   ]
  },
  {
   "cell_type": "code",
   "execution_count": 8,
   "metadata": {},
   "outputs": [],
   "source": [
    "# contig and gene as inputs\n",
    "contig = \"ACGTA\"\n",
    "query = \"ACG\"\n",
    "\n",
    "expected_alignment_score = np.array(\n",
    "    [\n",
    "        [0.0, 0.0, 0.0, 0.0, 0.0, 0.0],\n",
    "        [0.0, 10.0, 5.0, 0.0, 0.0, 10.0],\n",
    "        [0.0, 5.0, 20.0, 15.0, 10.0, 5.0],\n",
    "        [0.0, 0.0, 15.0, 30.0, 25.0, 20.0],\n",
    "    ]\n",
    ")\n",
    "\n",
    "# construct scoring matrix\n",
    "test_alignment_score = score_alignment(contig, query)\n",
    "\n",
    "value_check = np.all(expected_alignment_score == test_alignment_score)"
   ]
  },
  {
   "cell_type": "code",
   "execution_count": 58,
   "metadata": {},
   "outputs": [
    {
     "name": "stdout",
     "output_type": "stream",
     "text": [
      "3 3\n"
     ]
    },
    {
     "data": {
      "text/plain": [
       "30.0"
      ]
     },
     "execution_count": 58,
     "metadata": {},
     "output_type": "execute_result"
    }
   ],
   "source": [
    "start_row_idx, start_col_idx = np.unravel_index(test_alignment_score.argmax(), shape=test_alignment_score.shape)\n",
    "print(start_row_idx, start_col_idx)\n",
    "test_alignment_score[start_row_idx, start_col_idx] "
   ]
  },
  {
   "cell_type": "code",
   "execution_count": 70,
   "metadata": {},
   "outputs": [],
   "source": [
    "score = None\n",
    "track_back = []\n",
    "score_list = []\n",
    "\n",
    "\n",
    "# adding starting point information in the \n",
    "start_row_idx, start_col_idx = np.unravel_index(test_alignment_score.argmax(), shape=test_alignment_score.shape)\n",
    "score = test_alignment_score[start_row_idx, start_col_idx]\n",
    "score_list.append(score)\n",
    "track_back.append((start_row_idx, start_col_idx))\n",
    "\n",
    "x = start_row_idx\n",
    "y = start_col_idx\n",
    "while score > 0:\n",
    "    tracker = {}\n",
    "    tracker[f\"{x-1}, {y}\"] = test_alignment_score[x-1, y]\n",
    "    tracker[f\"{x}, {y-1}\"] = test_alignment_score[x, y-1]\n",
    "    tracker[f\"{x-1}, {y-1}\"] = test_alignment_score[x-1, y-1]\n",
    "\n",
    "    # finding the max \n",
    "    max_score_key= max(tracker, key=tracker.get)\n",
    "    max_score = tracker[max_score_key]\n",
    "    score = max_score \n",
    "    score_list.append(max_score)\n",
    "\n",
    "    # setting new start position\n",
    "    pos = tuple(int(i) for i in max_score_key.split(\",\"))\n",
    "    x = pos[0]\n",
    "    y = pos[1]\n",
    "    track_back.append((x,y))\n",
    "\n"
   ]
  },
  {
   "cell_type": "code",
   "execution_count": 28,
   "metadata": {},
   "outputs": [],
   "source": [
    "d = {\"1, 5\": 1, \"2, 2\": 2, \"3\": 3, \"4, 2\": 4, \"2, 5\": 5}\n",
    "data = max(d, key=d.get)"
   ]
  },
  {
   "cell_type": "code",
   "execution_count": 38,
   "metadata": {},
   "outputs": [],
   "source": [
    "x, y = tuple(int(i) for i in data.split(\",\"))"
   ]
  },
  {
   "cell_type": "code",
   "execution_count": 71,
   "metadata": {},
   "outputs": [
    {
     "data": {
      "text/plain": [
       "[(3, 3), (2, 2), (1, 1), (0, 1)]"
      ]
     },
     "execution_count": 71,
     "metadata": {},
     "output_type": "execute_result"
    }
   ],
   "source": [
    "track_back"
   ]
  },
  {
   "cell_type": "code",
   "execution_count": 9,
   "metadata": {},
   "outputs": [],
   "source": [
    "from genequest.analysis.alignment import trace_back"
   ]
  },
  {
   "cell_type": "code",
   "execution_count": 10,
   "metadata": {},
   "outputs": [
    {
     "data": {
      "text/plain": [
       "([(3, 3), (2, 2), (1, 1), (0, 1)], [30.0, 20.0, 10.0, 0.0])"
      ]
     },
     "execution_count": 10,
     "metadata": {},
     "output_type": "execute_result"
    }
   ],
   "source": [
    "trace_back(query, contig, test_alignment_score)"
   ]
  },
  {
   "cell_type": "code",
   "execution_count": null,
   "metadata": {},
   "outputs": [],
   "source": []
  }
 ],
 "metadata": {
  "interpreter": {
   "hash": "36e2bd0ddf85ad51635b2635fa415c1e46273ae95d0c2b1076778a6021db9463"
  },
  "kernelspec": {
   "display_name": "Python 3.9.12 ('genequest')",
   "language": "python",
   "name": "python3"
  },
  "language_info": {
   "codemirror_mode": {
    "name": "ipython",
    "version": 3
   },
   "file_extension": ".py",
   "mimetype": "text/x-python",
   "name": "python",
   "nbconvert_exporter": "python",
   "pygments_lexer": "ipython3",
   "version": "3.9.12"
  },
  "orig_nbformat": 4
 },
 "nbformat": 4,
 "nbformat_minor": 2
}
